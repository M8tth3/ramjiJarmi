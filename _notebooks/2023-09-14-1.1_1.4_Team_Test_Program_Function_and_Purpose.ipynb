{
 "cells": [
  {
   "cell_type": "markdown",
   "metadata": {},
   "source": [
    "# Program Function and Purpose\n",
    "## By Jason Gao and Arthur Liu"
   ]
  },
  {
   "cell_type": "markdown",
   "metadata": {},
   "source": [
    "### Program with Output"
   ]
  },
  {
   "cell_type": "code",
   "execution_count": null,
   "metadata": {},
   "outputs": [],
   "source": [
    "print(\"Program with Output\")\n",
    "\n",
    "print(\"Hello World\")"
   ]
  },
  {
   "cell_type": "markdown",
   "metadata": {},
   "source": [
    "### Program with Input and Output"
   ]
  },
  {
   "cell_type": "code",
   "execution_count": null,
   "metadata": {},
   "outputs": [],
   "source": [
    "print(\"Program with Input and Output\")\n",
    "\n",
    "msg = input(\"What is your name?\")\n",
    "print(\"Hello \" + msg + \", welcome to this page!\")"
   ]
  },
  {
   "cell_type": "markdown",
   "metadata": {},
   "source": [
    "### Program with a List"
   ]
  },
  {
   "cell_type": "code",
   "execution_count": null,
   "metadata": {},
   "outputs": [],
   "source": [
    "print(\"Program with a List\")\n",
    "\n",
    "colors = []\n",
    "\n",
    "colors.append(\"red\")\n",
    "colors.append(\"blue\")\n",
    "\n",
    "print(\"This list of colors currently has red and blue.\")\n",
    "print(colors)\n",
    "\n",
    "colors.append(\"green\")\n",
    "colors.append(\"yellow\")\n",
    "\n",
    "print(\"The colors green and yellow have been added to the list.\")\n",
    "print(colors)\n",
    "\n",
    "colors.remove(\"red\")\n",
    "colors.remove(\"yellow\")\n",
    "\n",
    "print(\"The colors red and yellow have been removed from the list, leaving blue and green in the list.\")\n",
    "print(colors)"
   ]
  },
  {
   "cell_type": "markdown",
   "metadata": {},
   "source": [
    "### Program with a Dictionary"
   ]
  },
  {
   "cell_type": "code",
   "execution_count": null,
   "metadata": {},
   "outputs": [],
   "source": [
    "print(\"Program with a Dictionary\")\n",
    "\n",
    "numbers = {\n",
    "    \"one\": 1,\n",
    "    \"two\": 2,\n",
    "    \"three\": 3\n",
    "}\n",
    "\n",
    "print(\"A dictionary uses key-value pairs to store information. In this case, the letter name of the number is key and the actual number is the value!\")\n",
    "print(\"one:\" + str(numbers[\"one\"]))\n",
    "print(\"two:\" + str(numbers[\"two\"]))\n",
    "print(\"three:\" + str(numbers[\"three\"]))"
   ]
  },
  {
   "cell_type": "markdown",
   "metadata": {},
   "source": [
    "### Program with Iteration"
   ]
  },
  {
   "cell_type": "code",
   "execution_count": null,
   "metadata": {},
   "outputs": [],
   "source": [
    "print(\"Program with Iteration\")\n",
    "\n",
    "num = int(input(\"Input an integer and get its factorial!\"))\n",
    "result = 1\n",
    "\n",
    "for i in range(1, num + 1):\n",
    "    result *= i\n",
    "\n",
    "print(result)"
   ]
  },
  {
   "cell_type": "markdown",
   "metadata": {},
   "source": [
    "### Program with a Function to perform mathematical and/or statistical calculations"
   ]
  },
  {
   "cell_type": "code",
   "execution_count": null,
   "metadata": {},
   "outputs": [],
   "source": [
    "def add(a, b):\n",
    "    return int(a) + int(b)\n",
    "\n",
    "def subtract(a, b):\n",
    "    return int(a) - int(b)\n",
    "\n",
    "print(\"2 + 3 = \" + str(add(2, 3)))\n",
    "print(\"3 + 5 = \" + str(add(3, 5)))\n",
    "print(\"9 - 6 = \" + str(subtract(9, 6)))\n",
    "print(\"7 - 2 = \" + str(subtract(7, 2)))"
   ]
  },
  {
   "cell_type": "markdown",
   "metadata": {},
   "source": [
    "### Program with a Selection/Condition"
   ]
  },
  {
   "cell_type": "code",
   "execution_count": null,
   "metadata": {},
   "outputs": [],
   "source": [
    "c = input(\"Input a character \")\n",
    "\n",
    "try:\n",
    "    if (str(abs(float(c))).isnumeric()):\n",
    "        print(\"You inputted an integer\")\n",
    "    else:\n",
    "        print(\"You inputted a float\")\n",
    "except ValueError:\n",
    "    if (len(c) == 1):\n",
    "        print(\"You inputted a character\")\n",
    "    else:\n",
    "        print(\"You inputted a string\")"
   ]
  },
  {
   "cell_type": "markdown",
   "metadata": {},
   "source": [
    "### Program with Purpose"
   ]
  },
  {
   "cell_type": "code",
   "execution_count": null,
   "metadata": {},
   "outputs": [],
   "source": [
    "# Chemistry aid tool and calculator\n",
    "# Dictionary for elements and masses (EXPAND)\n",
    "masses = {\n",
    "    \"H\": 1.008,\n",
    "    \"He\": 4.0026,\n",
    "    \"Li\": 6.94,\n",
    "    \"Be\": 9.0122,\n",
    "    \"B\": 10.81,\n",
    "    \"C\": 12.011,\n",
    "    \"N\": 14.007,\n",
    "    \"O\": 15.999,\n",
    "    \"F\": 18.998,\n",
    "    \"Ne\": 20.180,\n",
    "    \"Na\": 22.990,\n",
    "    \"Mg\": 24.305,\n",
    "    \"Al\": 26.982,\n",
    "    \"Si\": 28.085,\n",
    "    \"P\": 30.974,\n",
    "    \"S\": 32.06,\n",
    "    \"Cl\": 35.45,\n",
    "    \"Ar\": 39.948\n",
    "}\n",
    "\n",
    "# constant definitions\n",
    "A = 6.022*10**23\n",
    "h = 6.626*10**-34\n",
    "\n",
    "# define functions for all actions\n",
    "def moletogram():\n",
    "    element = input(\"Enter the elemental symbol of the element in question\")\n",
    "    moles = int(input(\"Enter the number of moles of \" + element))\n",
    "    molarmass = masses[element]\n",
    "    grams = moles * molarmass\n",
    "    print(\"The number of grams is \" + str(grams))\n",
    "\n",
    "def gramtomole():\n",
    "    element = input(\"Enter the elemental symbol of the element in question\")\n",
    "    grams = int(input(\"Enter the number of grams of \" + element))\n",
    "    molarmass = masses[element]\n",
    "    moles = grams / molarmass\n",
    "    print(\"The number of moles is \" + str(moles))\n",
    "\n",
    "def moletomolecule():\n",
    "    moles = int(input(\"Enter the number of moles in question\"))\n",
    "    molecules = moles * A\n",
    "    print(\"The number of molecules is \" + str(molecules))\n",
    "\n",
    "def gramtomolecule():\n",
    "    element = input(\"Enter the elemental symbol of the element in question\")\n",
    "    grams = int(input(\"Enter the number of grams of \" + element))\n",
    "    molarmass = masses[element]\n",
    "    moles = grams / molarmass\n",
    "    molecules = moles * A\n",
    "    print(\"The number of molecules is \" + str(molecules))\n",
    "\n",
    "def PVnRT():\n",
    "    solvefor = input(\"What variable would you like to solve for?\")\n",
    "    R = 0.08206\n",
    "    if solvefor.lower() == \"p\" or solvefor.lower() == \"pressure\":\n",
    "        # P = nRT/V\n",
    "        volume = int(input(\"Enter the volume of the gas in liters\"))\n",
    "        moles = int(input(\"Enter the moles of the gas\"))\n",
    "        temp = int(input(\"Enter the temperature of the gas in Kelvin\"))\n",
    "        pressure = moles * R * temp / volume\n",
    "        print(\"The pressure is \" + str(pressure) + \" atm\")\n",
    "    elif solvefor.lower() == \"v\" or solvefor.lower() == \"volume\":\n",
    "        # V = nRT/P\n",
    "        pressure = int(input(\"Enter the pressure of the gas in atm\"))\n",
    "        moles = int(input(\"Enter the moles of the gas\"))\n",
    "        temp = int(input(\"Enter the temperature of the gas in Kelvin\"))\n",
    "        volume = moles * R * temp / pressure\n",
    "        print(\"The volume is \" + str(volume) + \" liters\")\n",
    "    elif solvefor.lower() == \"n\" or solvefor.lower() == \"moles\":\n",
    "        # n = PV/RT\n",
    "        pressure = int(input(\"Enter the pressure of the gas in atm\"))\n",
    "        volume = int(input(\"Enter the volume of the gas in liters\"))\n",
    "        temp = int(input(\"Enter the temperature of the gas in Kelvin\")) \n",
    "        moles = pressure * volume / R / temp\n",
    "        print(\"The number of moles is \" + str(moles) + \" moles\")\n",
    "    elif solvefor.lower() == \"t\" or solvefor.lower() == \"temperature\" or solvefor.lower() == \"temp\":\n",
    "        # T = PV/nR\n",
    "        pressure = int(input(\"Enter the pressure of the gas in atm\"))\n",
    "        volume = int(input(\"Enter the volume of the gas in liters\"))\n",
    "        moles = int(input(\"Enter the moles of the gas\"))\n",
    "        temp = pressure * volume / moles / R\n",
    "        print(\"The temperature is \" + str(temp) + \" Kelvin\")\n",
    "    else:\n",
    "        print(\"You did not enter a valid variable. Please try again!\")\n",
    "\n",
    "def Ehv():\n",
    "    solvefor = input(\"What variable would you like to solve for?\") \n",
    "    if solvefor.lower() == \"e\" or solvefor.lower() == \"energy\":\n",
    "        # E = hv\n",
    "        frequency = int(input(\"Enter the frequency in Hz\"))\n",
    "        E = h * frequency\n",
    "        Ekj = E / 1000\n",
    "        print(\"The energy is \" + str(E) + \" joules, or \" + str(Ekj) + \" kilojoules\")\n",
    "    elif solvefor.lower() == \"v\" or solvefor.lower() == \"frequency\":\n",
    "        # = v = E / h\n",
    "        E = int(input(\"Enter the energy in joules\"))\n",
    "        frequency = E / h\n",
    "        print(\"The frequency is \" + str(frequency) + \" Hz\")\n",
    "    else:\n",
    "        print(\"You did not enter a valid variable. Please try again!\")\n",
    "\n",
    "# Welcome\n",
    "print(\"Hello, welcome to this Chemistry aid and convenience tool.\")\n",
    "\n",
    "# List of actions possible\n",
    "actions = [\n",
    "    \"1. Convert moles to grams\",\n",
    "    \"2. Convert grams to moles\",\n",
    "    \"3. Convert moles to molecules\",\n",
    "    \"4. Convert grams to molecules.\",\n",
    "    \"5. PV=nRT\",\n",
    "    \"6. E = hv\"\n",
    "]\n",
    "\n",
    "\n",
    "# Get user input of which action to do\n",
    "while True:\n",
    "    print(\"Options:\")\n",
    "    for i in range(len(actions)):\n",
    "        print(actions[i])\n",
    "    action = input(\"Please input the number of the corresponding action you would like to do or 'q' to exit.\")\n",
    "    if action == \"1\":\n",
    "        moletogram()\n",
    "    elif action == \"2\":\n",
    "        gramtomole()\n",
    "    elif action == \"3\":\n",
    "        moletomolecule()\n",
    "    elif action == \"4\":\n",
    "        gramtomolecule()\n",
    "    elif action == \"5\":\n",
    "        PVnRT()\n",
    "    elif action == \"6\":\n",
    "        Ehv()\n",
    "    elif action == \"q\":\n",
    "        break\n",
    "    else:\n",
    "        print(\"You did not enter a valid option. Please try again!\")"
   ]
  }
 ],
 "metadata": {
  "kernelspec": {
   "display_name": "Python 3 (ipykernel)",
   "language": "python",
   "name": "python3"
  },
  "language_info": {
   "codemirror_mode": {
    "name": "ipython",
    "version": 3
   },
   "file_extension": ".py",
   "mimetype": "text/x-python",
   "name": "python",
   "nbconvert_exporter": "python",
   "pygments_lexer": "ipython3",
   "version": "3.10.12"
  }
 },
 "nbformat": 4,
 "nbformat_minor": 2
}
