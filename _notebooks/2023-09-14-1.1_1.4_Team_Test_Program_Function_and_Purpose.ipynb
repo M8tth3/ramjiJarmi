{
 "cells": [
  {
   "cell_type": "markdown",
   "metadata": {},
   "source": [
    "# Program Function and Purpose\n",
    "## By Jason Gao and Arthur Liu"
   ]
  },
  {
   "cell_type": "markdown",
   "metadata": {},
   "source": [
    "### Program with Output"
   ]
  },
  {
   "cell_type": "code",
   "execution_count": null,
   "metadata": {},
   "outputs": [],
   "source": [
    "print(\"Program with Output\")\n",
    "\n",
    "print(\"Hello World\")"
   ]
  },
  {
   "cell_type": "markdown",
   "metadata": {},
   "source": [
    "### Program with Input and Output"
   ]
  },
  {
   "cell_type": "code",
   "execution_count": null,
   "metadata": {},
   "outputs": [],
   "source": [
    "print(\"Program with Input and Output\")\n",
    "\n",
    "msg = input(\"What is your name?\")\n",
    "print(\"Hello \" + msg)"
   ]
  },
  {
   "cell_type": "markdown",
   "metadata": {},
   "source": [
    "### Program with a List"
   ]
  },
  {
   "cell_type": "code",
   "execution_count": null,
   "metadata": {},
   "outputs": [],
   "source": [
    "print(\"Program with a List\")\n",
    "\n",
    "colors = []\n",
    "\n",
    "colors.append(\"red\")\n",
    "colors.append(\"blue\")\n",
    "\n",
    "print(colors)\n",
    "\n",
    "colors.append(\"green\")\n",
    "colors.append(\"yellow\")\n",
    "\n",
    "print(colors)\n",
    "\n",
    "colors.remove(\"red\")\n",
    "colors.remove(\"yellow\")\n",
    "\n",
    "print(colors)"
   ]
  },
  {
   "cell_type": "markdown",
   "metadata": {},
   "source": [
    "### Program with a Dictionary"
   ]
  },
  {
   "cell_type": "code",
   "execution_count": null,
   "metadata": {},
   "outputs": [],
   "source": [
    "print(\"Program with a Dictionary\")\n",
    "\n",
    "numbers = {\n",
    "    \"one\": 1\n",
    "    \"two\": 2\n",
    "    \"three\": 3\n",
    "}\n",
    "\n",
    "print(\"one:\" + numbers[\"one\"])\n"
   ]
  }
 ],
 "metadata": {
  "language_info": {
   "name": "python"
  },
  "orig_nbformat": 4
 },
 "nbformat": 4,
 "nbformat_minor": 2
}
