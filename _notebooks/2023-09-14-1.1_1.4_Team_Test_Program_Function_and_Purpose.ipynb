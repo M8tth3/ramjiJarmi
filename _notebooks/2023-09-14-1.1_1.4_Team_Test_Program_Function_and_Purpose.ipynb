{
 "cells": [
  {
   "cell_type": "markdown",
   "metadata": {},
   "source": [
    "# Program Function and Purpose\n",
    "## By Jason Gao and Arthur Liu"
   ]
  },
  {
   "cell_type": "markdown",
   "metadata": {},
   "source": [
    "### Program with Output"
   ]
  },
  {
   "cell_type": "code",
   "execution_count": 11,
   "metadata": {},
   "outputs": [
    {
     "name": "stdout",
     "output_type": "stream",
     "text": [
      "Program with Output\n",
      "Hello World\n"
     ]
    }
   ],
   "source": [
    "print(\"Program with Output\")\n",
    "\n",
    "print(\"Hello World\")"
   ]
  },
  {
   "cell_type": "markdown",
   "metadata": {},
   "source": [
    "### Program with Input and Output"
   ]
  },
  {
   "cell_type": "code",
   "execution_count": 10,
   "metadata": {},
   "outputs": [
    {
     "name": "stdout",
     "output_type": "stream",
     "text": [
      "Program with Input and Output\n",
      "Hello e, welcome to this page!\n"
     ]
    }
   ],
   "source": [
    "print(\"Program with Input and Output\")\n",
    "\n",
    "msg = input(\"What is your name?\")\n",
    "print(\"Hello \" + msg + \", welcome to this page!\")"
   ]
  },
  {
   "cell_type": "markdown",
   "metadata": {},
   "source": [
    "### Program with a List"
   ]
  },
  {
   "cell_type": "code",
   "execution_count": 1,
   "metadata": {},
   "outputs": [
    {
     "name": "stdout",
     "output_type": "stream",
     "text": [
      "Program with a List\n",
      "This list of colors currently has red and blue.\n",
      "['red', 'blue']\n",
      "The colors green and yellow have been added to the list.\n",
      "['red', 'blue', 'green', 'yellow']\n",
      "The colors red and yellow have been removed from the list, leaving blue and green in the list.\n",
      "['blue', 'green']\n"
     ]
    }
   ],
   "source": [
    "print(\"Program with a List\")\n",
    "\n",
    "colors = []\n",
    "\n",
    "colors.append(\"red\")\n",
    "colors.append(\"blue\")\n",
    "\n",
    "print(\"This list of colors currently has red and blue.\")\n",
    "print(colors)\n",
    "\n",
    "colors.append(\"green\")\n",
    "colors.append(\"yellow\")\n",
    "\n",
    "print(\"The colors green and yellow have been added to the list.\")\n",
    "print(colors)\n",
    "\n",
    "colors.remove(\"red\")\n",
    "colors.remove(\"yellow\")\n",
    "\n",
    "print(\"The colors red and yellow have been removed from the list, leaving blue and green in the list.\")\n",
    "print(colors)"
   ]
  },
  {
   "cell_type": "markdown",
   "metadata": {},
   "source": [
    "### Program with a Dictionary"
   ]
  },
  {
   "cell_type": "code",
   "execution_count": 9,
   "metadata": {},
   "outputs": [
    {
     "name": "stdout",
     "output_type": "stream",
     "text": [
      "Program with a Dictionary\n",
      "A dictionary uses key-value pairs to store information. In this case, the letter name of the number is key and the actual number is the value!\n",
      "one:1\n",
      "two:2\n",
      "three:3\n"
     ]
    }
   ],
   "source": [
    "print(\"Program with a Dictionary\")\n",
    "\n",
    "numbers = {\n",
    "    \"one\": 1,\n",
    "    \"two\": 2,\n",
    "    \"three\": 3\n",
    "}\n",
    "\n",
    "print(\"A dictionary uses key-value pairs to store information. In this case, the letter name of the number is key and the actual number is the value!\")\n",
    "print(\"one:\" + str(numbers[\"one\"]))\n",
    "print(\"two:\" + str(numbers[\"two\"]))\n",
    "print(\"three:\" + str(numbers[\"three\"]))"
   ]
  },
  {
   "cell_type": "markdown",
   "metadata": {},
   "source": [
    "### Program with Iteration"
   ]
  },
  {
   "cell_type": "code",
   "execution_count": 14,
   "metadata": {},
   "outputs": [
    {
     "name": "stdout",
     "output_type": "stream",
     "text": [
      "Program with Iteration\n",
      "362880\n"
     ]
    }
   ],
   "source": [
    "print(\"Program with Iteration\")\n",
    "\n",
    "num = int(input(\"Input an integer and get its factorial!\"))\n",
    "result = 1\n",
    "\n",
    "for i in range(1, num + 1):\n",
    "    result *= i\n",
    "\n",
    "print(result)"
   ]
  },
  {
   "cell_type": "markdown",
   "metadata": {},
   "source": [
    "### Program with a Function to perform mathematical and/or statistical calculations"
   ]
  },
  {
   "cell_type": "code",
   "execution_count": null,
   "metadata": {},
   "outputs": [],
   "source": [
    "rawdata = input(\"Enter data values and get the 5 number summary (minimum, Q1, median, Q3, maximum) and mean!\")\n",
    "# we can add SD if we want))\n",
    "\n"
   ]
  },
  {
   "cell_type": "markdown",
   "metadata": {},
   "source": [
    "### Program with a Selection/Condition"
   ]
  },
  {
   "cell_type": "code",
   "execution_count": null,
   "metadata": {},
   "outputs": [],
   "source": [
    "# input smth and tell if letter or number or whatever"
   ]
  },
  {
   "cell_type": "markdown",
   "metadata": {},
   "source": [
    "### Program with Purpose"
   ]
  },
  {
   "cell_type": "code",
   "execution_count": null,
   "metadata": {},
   "outputs": [],
   "source": [
    "# ideas: physics with Fg calculator and stored values for Earth, moon, etc. + statistics (SD, mean, distribution, comparison, SEM, etc.)\n",
    "# get more ideas"
   ]
  }
 ],
 "metadata": {
  "kernelspec": {
   "display_name": "Python 3",
   "language": "python",
   "name": "python3"
  },
  "language_info": {
   "codemirror_mode": {
    "name": "ipython",
    "version": 3
   },
   "file_extension": ".py",
   "mimetype": "text/x-python",
   "name": "python",
   "nbconvert_exporter": "python",
   "pygments_lexer": "ipython3",
   "version": "3.10.12"
  },
  "orig_nbformat": 4
 },
 "nbformat": 4,
 "nbformat_minor": 2
}
