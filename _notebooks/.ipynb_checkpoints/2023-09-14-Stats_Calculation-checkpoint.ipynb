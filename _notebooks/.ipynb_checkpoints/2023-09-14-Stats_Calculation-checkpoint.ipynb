{
 "cells": [
  {
   "cell_type": "code",
   "execution_count": 2,
   "metadata": {},
   "outputs": [
    {
     "name": "stdout",
     "output_type": "stream",
     "text": [
      "The Minimum amount of money movies made in box office is: 1\n",
      "The Maximum amount of money movies made in box office is: 5\n",
      "The Median of the amount of money movies made in box office is: 3\n",
      "The Average amount of money movies made in box office is: 3.0\n",
      "The Standard Deviation of the amount of money movies made in box office is: 1.4142135623730951\n"
     ]
    }
   ],
   "source": [
    "#calculating minimum and maximum\n",
    "n_num = [1, 2, 3, 4, 5]\n",
    "n = len(n_num)\n",
    "n_num.sort()\n",
    "\n",
    "minimum = n_num[0]\n",
    "maximum = n_num[-1]\n",
    "\n",
    "print(\"The Minimum amount of money movies made in box office is: \" + str(minimum))\n",
    "print(\"The Maximum amount of money movies made in box office is: \" + str(maximum))\n",
    "\n",
    "#calculating median\n",
    "n_num = [1, 2, 3, 4, 5]\n",
    "n = len(n_num)\n",
    "n_num.sort()\n",
    " \n",
    "if n % 2 == 0:\n",
    "    median1 = n_num[n//2]\n",
    "    median2 = n_num[n//2 - 1]\n",
    "    median = (median1 + median2)/2\n",
    "else:\n",
    "    median = n_num[n//2]\n",
    "print(\"The Median of the amount of money movies made in box office is: \" + str(median))\n",
    "\n",
    "#calculating mean\n",
    "n_num = [1, 2, 3, 4, 5]\n",
    "n = len(n_num)\n",
    " \n",
    "get_sum = sum(n_num)\n",
    "mean = get_sum / n\n",
    " \n",
    "print(\"The Average amount of money movies made in box office is: \" + str(mean))\n",
    "\n",
    "#calculating standard deviation\n",
    "n_num = [1, 2, 3, 4, 5]\n",
    "n = len(n_num)\n",
    "\n",
    "get_sum = sum(n_num)\n",
    "mean = get_sum / n\n",
    "\n",
    "variance = sum([((x - mean) ** 2) for x in n_num]) / n\n",
    "sd = variance ** 0.5\n",
    "\n",
    "print(\"The Standard Deviation of the amount of money movies made in box office is: \" + str(sd))"
   ]
  }
 ],
 "metadata": {
  "kernelspec": {
   "display_name": "Python 3 (ipykernel)",
   "language": "python",
   "name": "python3"
  },
  "language_info": {
   "codemirror_mode": {
    "name": "ipython",
    "version": 3
   },
   "file_extension": ".py",
   "mimetype": "text/x-python",
   "name": "python",
   "nbconvert_exporter": "python",
   "pygments_lexer": "ipython3",
   "version": "3.10.12"
  }
 },
 "nbformat": 4,
 "nbformat_minor": 2
}
