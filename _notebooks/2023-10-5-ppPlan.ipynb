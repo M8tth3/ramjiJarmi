{
 "cells": [
  {
   "cell_type": "markdown",
   "metadata": {},
   "source": [
    "---\n",
    "toc: false\n",
    "comments: true\n",
    "layout: post\n",
    "title: Passion Project Plan\n",
    "description: Passion Project\n",
    "type: hacks\n",
    "courses: { compsci: {week: 7} }\n",
    "---"
   ]
  },
  {
   "cell_type": "markdown",
   "metadata": {},
   "source": [
    "# Description of Project Idea\n",
    "A remake of the popular game, [Dark Souls](https://en.wikipedia.org/wiki/Dark_Souls#:~:text=Dark%20Souls%20is%20the%20first,PlayStation%203%20and%20Xbox%20360.) but in a terminal-like environment. \n",
    "\n",
    "## Initial Concepts\n",
    "\n",
    "**Isabelle(Scrum Master):**\n",
    "- Should have a character selection screen\n",
    "- When player dies the image should turn gray\n",
    "- Have pixel art in the game to make visuals more interesting\n",
    "- First boss of dark souls\n",
    "\n",
    "**Arthur:**\n",
    "- Store user data/stats in database\n",
    "- Should save a checkpoint that the user \n",
    "- Show a picture of your character in the UI \n",
    "\n",
    "**Rayane:**\n",
    "- Have an image displayed to the user that switches whenever they do something\n",
    "- Design a very cool looking title screen\n",
    "- Transition from venturing to turn based combat\n",
    "- A database to store the user's data so they can come back to it\n",
    "\n",
    "**Jason:**\n",
    "- Store boss's data and hp\n",
    "- Turn based Combat\n",
    "- Add class-unique skills to do damage\n",
    "\n",
    "**Matthew:**\n",
    "- Be able to \"cd\" into other areas\n",
    "- Create character classes(e.g paladin, knight)\n",
    "- Boss should have a variety of skills to attack you with\n",
    "- First tutorial area of dark souls\n",
    "\n",
    "# Overview of screens"
   ]
  },
  {
   "cell_type": "code",
   "execution_count": 1,
   "metadata": {},
   "outputs": [
    {
     "data": {
      "text/html": [
       "<img src=\"/ramjiJarmi/images/ppScreens.jpg\">\n"
      ],
      "text/plain": [
       "<IPython.core.display.HTML object>"
      ]
     },
     "metadata": {},
     "output_type": "display_data"
    }
   ],
   "source": [
    "%%html\n",
    "\n",
    "<img src=\"/ramjiJarmi/images/ppScreens.jpg\">"
   ]
  },
  {
   "cell_type": "markdown",
   "metadata": {},
   "source": [
    "# Prerequisites\n",
    "\n",
    "## Frontend\n",
    "## Backend\n",
    "\n",
    "# Game Features\n",
    "\n",
    "# Data"
   ]
  }
 ],
 "metadata": {
  "kernelspec": {
   "display_name": "Python 3",
   "language": "python",
   "name": "python3"
  },
  "language_info": {
   "codemirror_mode": {
    "name": "ipython",
    "version": 3
   },
   "file_extension": ".py",
   "mimetype": "text/x-python",
   "name": "python",
   "nbconvert_exporter": "python",
   "pygments_lexer": "ipython3",
   "version": "3.11.0rc1"
  }
 },
 "nbformat": 4,
 "nbformat_minor": 2
}
