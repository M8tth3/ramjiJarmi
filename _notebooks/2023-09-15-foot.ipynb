{
 "cells": [
  {
   "cell_type": "code",
   "execution_count": 20,
   "metadata": {},
   "outputs": [
    {
     "name": "stdout",
     "output_type": "stream",
     "text": [
      "[2320250281, 684075767, 1636174514, 1495696292, 718732821, 776963471, 1001978080, 376851080, 625127000, 955775804, 411331607, 544444197, 939628210, 369695210, 569933000, 859208836, 453829060, 405379776, 770962583, 369345583]\n"
     ]
    }
   ],
   "source": [
    "import requests\n",
    "from bs4 import BeautifulSoup\n",
    "\n",
    "#<td class=\"a-text-right mojo-field-type-money\">$2,320,250,281</td>\n",
    "url = \"https://www.boxofficemojo.com/year/world/2022/\"\n",
    "test = []\n",
    "char = '$'\n",
    "moviePage = requests.get(url)\n",
    "soup = BeautifulSoup(moviePage.content, 'html.parser')\n",
    "elements = soup.find_all('td', class_='a-text-right mojo-field-type-money')\n",
    "for element in elements:\n",
    "    test.append(element.get_text(strip=True))\n",
    "for idx, ele in enumerate(test):\n",
    "    test[idx] = ele.replace(char, '')\n",
    "x = 0\n",
    "test = test[:20]\n",
    "\n",
    "\n",
    "\n",
    "\n",
    "\n",
    "\n",
    "\n",
    "\n",
    "\n",
    "\n",
    "\n",
    "\n",
    "\n",
    "\n",
    "\n",
    "\n",
    "\n",
    "\n",
    "\n",
    "\n",
    "\n",
    "\n",
    "\n",
    "\n",
    "\n",
    "\n",
    "\n",
    "\n",
    "\n",
    "for i in test:\n",
    "\n",
    "    i = i.replace(',','')\n",
    "    test[x] = int(i)\n",
    "    x+=1\n",
    "print(test)"
   ]
  }
 ],
 "metadata": {
  "kernelspec": {
   "display_name": "Python 3",
   "language": "python",
   "name": "python3"
  },
  "language_info": {
   "codemirror_mode": {
    "name": "ipython",
    "version": 3
   },
   "file_extension": ".py",
   "mimetype": "text/x-python",
   "name": "python",
   "nbconvert_exporter": "python",
   "pygments_lexer": "ipython3",
   "version": "3.10.12"
  },
  "orig_nbformat": 4
 },
 "nbformat": 4,
 "nbformat_minor": 2
}
